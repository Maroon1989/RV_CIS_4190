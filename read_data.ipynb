{
 "cells": [
  {
   "cell_type": "code",
   "execution_count": 2,
   "metadata": {},
   "outputs": [],
   "source": [
    "import pandas as pd\n",
    "import numpy as np\n",
    "import os"
   ]
  },
  {
   "cell_type": "code",
   "execution_count": 4,
   "metadata": {},
   "outputs": [
    {
     "name": "stdout",
     "output_type": "stream",
     "text": [
      "stock_id=0\n",
      "   time_id  seconds_in_bucket  bid_price1  ask_price1  bid_price2  ask_price2  \\\n",
      "0        5                  0    1.001422    1.002301     1.00137    1.002353   \n",
      "1        5                  1    1.001422    1.002301     1.00137    1.002353   \n",
      "2        5                  5    1.001422    1.002301     1.00137    1.002405   \n",
      "3        5                  6    1.001422    1.002301     1.00137    1.002405   \n",
      "4        5                  7    1.001422    1.002301     1.00137    1.002405   \n",
      "5        5                 11    1.001422    1.002301     1.00137    1.002405   \n",
      "6        5                 12    1.001422    1.002301     1.00137    1.002405   \n",
      "7        5                 14    1.001422    1.002301     1.00137    1.002405   \n",
      "8        5                 15    1.001422    1.002301     1.00137    1.002405   \n",
      "9        5                 16    1.001422    1.002301     1.00137    1.002405   \n",
      "\n",
      "   bid_size1  ask_size1  bid_size2  ask_size2  \n",
      "0          3        226          2        100  \n",
      "1          3        100          2        100  \n",
      "2          3        100          2        100  \n",
      "3          3        126          2        100  \n",
      "4          3        126          2        100  \n",
      "5          3        100          2        100  \n",
      "6          3        126          2        100  \n",
      "7          3        126          2        100  \n",
      "8          3        126          2        100  \n",
      "9          3        126          2        100  \n",
      "        time_id  seconds_in_bucket     price  size  order_count\n",
      "0             5                 21  1.002301   326           12\n",
      "1             5                 46  1.002778   128            4\n",
      "2             5                 50  1.002818    55            1\n",
      "3             5                 57  1.003155   121            5\n",
      "4             5                 68  1.003646     4            1\n",
      "...         ...                ...       ...   ...          ...\n",
      "123438    32767                471  0.998659   200            3\n",
      "123439    32767                517  0.998515    90            1\n",
      "123440    32767                523  0.998563     1            1\n",
      "123441    32767                542  0.998803    90            4\n",
      "123442    32767                567  0.998547   300            3\n",
      "\n",
      "[123443 rows x 5 columns]\n"
     ]
    }
   ],
   "source": [
    "path1 = r'E:\\BaiduNetdiskDownload\\book_train.parquet'\n",
    "path2 = r'E:\\BaiduNetdiskDownload\\trade_train.parquet'\n",
    "for i in os.listdir(path1):\n",
    "    print(i)\n",
    "    dir_path = os.path.join(path1,i)\n",
    "    file = os.listdir(dir_path)[0]\n",
    "    file_path = os.path.join(dir_path,file)\n",
    "    data = pd.read_parquet(file_path)\n",
    "    print(data.head(10))\n",
    "    break\n",
    "for i in os.listdir(path1):\n",
    "    dir_path = os.path.join(path2,i)\n",
    "    file = os.listdir(dir_path)[0]\n",
    "    file_path = os.path.join(dir_path,file)\n",
    "    data = pd.read_parquet(file_path)\n",
    "    print(data)\n",
    "    break"
   ]
  }
 ],
 "metadata": {
  "kernelspec": {
   "display_name": "Python 3",
   "language": "python",
   "name": "python3"
  },
  "language_info": {
   "codemirror_mode": {
    "name": "ipython",
    "version": 3
   },
   "file_extension": ".py",
   "mimetype": "text/x-python",
   "name": "python",
   "nbconvert_exporter": "python",
   "pygments_lexer": "ipython3",
   "version": "3.9.2"
  }
 },
 "nbformat": 4,
 "nbformat_minor": 2
}
