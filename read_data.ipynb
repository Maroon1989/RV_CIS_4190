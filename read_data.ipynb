{
 "cells": [
  {
   "cell_type": "code",
   "execution_count": 2,
   "metadata": {},
   "outputs": [],
   "source": [
    "import pandas as pd\n",
    "import numpy as np\n",
    "import os"
   ]
  },
  {
   "cell_type": "code",
   "execution_count": 5,
   "metadata": {},
   "outputs": [
    {
     "name": "stdout",
     "output_type": "stream",
     "text": [
      "        time_id  seconds_in_bucket  bid_price1  ask_price1  bid_price2  \\\n",
      "0             5                  0    1.001422    1.002301    1.001370   \n",
      "1             5                  1    1.001422    1.002301    1.001370   \n",
      "2             5                  5    1.001422    1.002301    1.001370   \n",
      "3             5                  6    1.001422    1.002301    1.001370   \n",
      "4             5                  7    1.001422    1.002301    1.001370   \n",
      "...         ...                ...         ...         ...         ...   \n",
      "917548    32767                568    0.998275    0.998754    0.997796   \n",
      "917549    32767                569    0.998275    0.998754    0.997892   \n",
      "917550    32767                571    0.998275    0.998754    0.997892   \n",
      "917551    32767                572    0.998275    0.998754    0.997892   \n",
      "917552    32767                582    0.998275    0.998754    0.998179   \n",
      "\n",
      "        ask_price2  bid_size1  ask_size1  bid_size2  ask_size2  \n",
      "0         1.002353          3        226          2        100  \n",
      "1         1.002353          3        100          2        100  \n",
      "2         1.002405          3        100          2        100  \n",
      "3         1.002405          3        126          2        100  \n",
      "4         1.002405          3        126          2        100  \n",
      "...            ...        ...        ...        ...        ...  \n",
      "917548    0.998946         90         90         48         28  \n",
      "917549    0.998946         91         90        200         28  \n",
      "917550    0.998946         91         90        100         28  \n",
      "917551    0.998946         92         90        100         28  \n",
      "917552    0.998946         92         90         26         28  \n",
      "\n",
      "[917553 rows x 10 columns]\n"
     ]
    }
   ],
   "source": [
    "path1 = r'E:\\BaiduNetdiskDownload\\book_train.parquet'\n",
    "path2 = r'E:\\BaiduNetdiskDownload\\trade_train.parquet'\n",
    "for i in os.listdir(path1):\n",
    "    dir_path = os.path.join(path1,i)\n",
    "    file = os.listdir(dir_path)[0]\n",
    "    file_path = os.path.join(dir_path,file)\n",
    "    data = pd.read_parquet(file_path)\n",
    "    print(data)\n",
    "    break\n",
    "for i in os.listdir(path1):\n",
    "    dir_path = os.path.join(path1,i)\n",
    "    file = os.listdir(dir_path)[0]\n",
    "    file_path = os.path.join(dir_path,file)\n",
    "    data = pd.read_parquet(file_path)\n",
    "    print(data)\n",
    "    break\n"
   ]
  }
 ],
 "metadata": {
  "kernelspec": {
   "display_name": "Python 3",
   "language": "python",
   "name": "python3"
  },
  "language_info": {
   "codemirror_mode": {
    "name": "ipython",
    "version": 3
   },
   "file_extension": ".py",
   "mimetype": "text/x-python",
   "name": "python",
   "nbconvert_exporter": "python",
   "pygments_lexer": "ipython3",
   "version": "3.9.2rc1"
  }
 },
 "nbformat": 4,
 "nbformat_minor": 2
}
